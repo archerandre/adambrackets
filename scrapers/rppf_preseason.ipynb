{
 "cells": [
  {
   "cell_type": "code",
   "execution_count": 2,
   "metadata": {},
   "outputs": [],
   "source": [
    "import numpy as np\n",
    "import re\n",
    "import pandas as pd\n",
    "import requests\n",
    "from bs4 import BeautifulSoup\n",
    "from datetime import date\n",
    "from kenpompy.utils import login\n",
    "import os\n",
    "import io"
   ]
  },
  {
   "cell_type": "code",
   "execution_count": 3,
   "metadata": {},
   "outputs": [],
   "source": [
    "username = 'adamjdavis242@yahoo.com'\n",
    "password = 'RoosterPom1234'\n",
    "browser = login(username, password)\n",
    "\n",
    "#url = \"https://kenpom.com/fanmatch.php?d=2024-11-05\"\n",
    "#url = \"https://kenpom.com/archive.php?d=2024-11-05\"\n",
    "\n",
    "#response = browser.get(url)\n",
    "#print(response)\n",
    "#soup = BeautifulSoup(response.content, 'html.parser')\n"
   ]
  },
  {
   "cell_type": "code",
   "execution_count": 24,
   "metadata": {},
   "outputs": [],
   "source": [
    "# Check if the request was successful\n",
    "if response.status_code == 200:\n",
    "    table = soup.find(\"table\")  # Adjust based on the table's class or id\n",
    "\n",
    "if table is None:\n",
    "        print(f\"No table found\")\n"
   ]
  },
  {
   "cell_type": "code",
   "execution_count": 25,
   "metadata": {},
   "outputs": [],
   "source": [
    "# Step 4: Extract headers from second row of <thead>\n",
    "header_rows = table.find(\"thead\").find_all(\"tr\")  # Get all header rows\n",
    "if len(header_rows) > 1:\n",
    "    header_row = header_rows[1]  # Select the second row (thead2)\n",
    "else:\n",
    "    header_row = header_rows[0]  # Fallback if there's only one row\n"
   ]
  },
  {
   "cell_type": "code",
   "execution_count": 6,
   "metadata": {},
   "outputs": [
    {
     "name": "stdout",
     "output_type": "stream",
     "text": [
      "<Response [200]>\n",
      "Skipping row due to column mismatch: []\n",
      "Skipping row due to column mismatch: []\n",
      "Skipping row due to column mismatch: []\n",
      "Skipping row due to column mismatch: []\n",
      "Skipping row due to column mismatch: []\n",
      "Skipping row due to column mismatch: []\n",
      "Skipping row due to column mismatch: []\n",
      "Skipping row due to column mismatch: []\n",
      "Skipping row due to column mismatch: []\n",
      "Skipping row due to column mismatch: []\n",
      "Skipping row due to column mismatch: []\n",
      "Skipping row due to column mismatch: []\n",
      "Skipping row due to column mismatch: []\n",
      "Skipping row due to column mismatch: []\n",
      "Skipping row due to column mismatch: []\n",
      "Skipping row due to column mismatch: []\n",
      "Skipping row due to column mismatch: []\n",
      "Skipping row due to column mismatch: []\n"
     ]
    }
   ],
   "source": [
    "def get_kp_preseason_data(year=2025):\n",
    "\n",
    "    if year == 2025:\n",
    "        url = \"https://kenpom.com/archive.php?d=2024-11-05\"\n",
    "    else:\n",
    "        print(\"Need to add key for years other than 2024 still! Seriously Andre get on it!\")\n",
    "\n",
    "    response = browser.get(url)\n",
    "    print(response)\n",
    "    soup = BeautifulSoup(response.content, 'html.parser')\n",
    "\n",
    "    # Check if the request was successful\n",
    "    if response.status_code == 200:\n",
    "        table = soup.find(\"table\")  # Adjust based on the table's class or id\n",
    "    else: \n",
    "        print(\"ERROR RESPONSE CODE\")\n",
    "    if table is None:\n",
    "            print(f\"No table found!\")\n",
    "\n",
    "    #Extract the second header row (thead2)\n",
    "    header_rows = table.find(\"thead\").find_all(\"tr\")\n",
    "    header_row = header_rows[1] if len(header_rows) > 1 else header_rows[0]\n",
    "    # Get column headers and keep only the first 12 (after filtering seeds)\n",
    "    headers = [th.text.strip() for th in header_row.find_all(\"th\") if \"seed\" not in th.get(\"class\", [])][:12]\n",
    "    # Extract data rows\n",
    "    data = []\n",
    "    for row in table.find(\"tbody\").find_all(\"tr\"):\n",
    "        cells = row.find_all(\"td\")\n",
    "\n",
    "        # Remove <span class=\"seed\"> elements\n",
    "        for cell in cells:\n",
    "            for span in cell.find_all(\"span\", class_=\"seed\"):\n",
    "                span.decompose()  # Completely removes the <span> element from the HTML\n",
    "\n",
    "        # Extract clean text, remove empty strings, and keep only first 12 columns\n",
    "        filtered_cells = [cell.get_text(strip=True) for cell in cells if cell.get_text(strip=True)][:12]\n",
    "\n",
    "        # Ensure only the desired number of columns are kept\n",
    "        if len(filtered_cells) == len(headers):\n",
    "            data.append(filtered_cells)\n",
    "        else:\n",
    "            print(f\"Skipping row due to column mismatch: {filtered_cells}\")\n",
    "\n",
    "    # Create DataFrame\n",
    "    preseason_kp = pd.DataFrame(data, columns=headers)\n",
    "    return(preseason_kp)\n",
    "\n",
    "preseason_kpdata = get_kp_preseason_data()"
   ]
  }
 ],
 "metadata": {
  "kernelspec": {
   "display_name": "sportsenv",
   "language": "python",
   "name": "python3"
  },
  "language_info": {
   "codemirror_mode": {
    "name": "ipython",
    "version": 3
   },
   "file_extension": ".py",
   "mimetype": "text/x-python",
   "name": "python",
   "nbconvert_exporter": "python",
   "pygments_lexer": "ipython3",
   "version": "3.12.8"
  }
 },
 "nbformat": 4,
 "nbformat_minor": 2
}
